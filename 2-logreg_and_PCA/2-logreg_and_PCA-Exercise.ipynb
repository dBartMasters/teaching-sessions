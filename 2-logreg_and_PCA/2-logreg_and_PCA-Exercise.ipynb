{
 "cells": [
  {
   "cell_type": "code",
   "execution_count": 1,
   "metadata": {},
   "outputs": [],
   "source": [
    "import numpy as np\n",
    "import pandas as pd\n",
    "pd.set_option('display.max_columns', 500)\n",
    "pd.set_option('display.max_rows', 500)\n",
    "pd.set_option('max_info_columns', 200)\n",
    "import matplotlib.pyplot as plt\n",
    "import seaborn as sns\n",
    "#import sklearn \n",
    "from sklearn import linear_model, decomposition, datasets\n",
    "from sklearn.preprocessing import StandardScaler"
   ]
  },
  {
   "cell_type": "code",
   "execution_count": 2,
   "metadata": {},
   "outputs": [],
   "source": [
    "#import the dataset\n",
    "in1=pd.read_csv('y_df_utf-8.csv',delimiter='\\t')"
   ]
  },
  {
   "cell_type": "markdown",
   "metadata": {},
   "source": [
    "## Dataset:\n",
    "3 years (1/1/2015-12/31/2017) of enterprise OneSource service data<br>\n",
    "**Predictors:** created by summarizing data before prediction point: 10/2/2017<br>\n",
    "**Target:** did the component fail (need a repair) between 10/2/2017 and 12/31/2017 (90 day window)"
   ]
  },
  {
   "cell_type": "code",
   "execution_count": 3,
   "metadata": {},
   "outputs": [],
   "source": [
    "#make sure target isn't missing\n",
    "in1.dropna(subset=['TARGET'],inplace=True)"
   ]
  },
  {
   "cell_type": "code",
   "execution_count": 4,
   "metadata": {},
   "outputs": [
    {
     "data": {
      "text/plain": [
       "<matplotlib.axes._subplots.AxesSubplot at 0xe602da0>"
      ]
     },
     "execution_count": 4,
     "metadata": {},
     "output_type": "execute_result"
    },
    {
     "data": {
      "image/png": "[encoded data removed]",
      "text/plain": [
       "<Figure size 432x288 with 1 Axes>"
      ]
     },
     "metadata": {
      "needs_background": "light"
     },
     "output_type": "display_data"
    }
   ],
   "source": [
    "#look at target distribution\n",
    "sns.countplot(x='TARGET',data=in1, palette='hls')"
   ]
  },
  {
   "cell_type": "markdown",
   "metadata": {},
   "source": [
    "#### Separate predictors and target"
   ]
  },
  {
   "cell_type": "code",
   "execution_count": 5,
   "metadata": {},
   "outputs": [],
   "source": [
    "#the target\n",
    "y=\"TARGET\""
   ]
  },
  {
   "cell_type": "code",
   "execution_count": 11,
   "metadata": {},
   "outputs": [
    {
     "data": {
      "text/plain": [
       "['ASSET_DESCRIPTION',\n",
       " 'ONESOURCE_TAG',\n",
       " 'SYSTEM_ID_SYSTEM_ID',\n",
       " 'DEPARTMENT_DEPARTMENT',\n",
       " 'CUSTOMER_NAME_CUSTOMER_NAME',\n",
       " 'SITE_NAME_SITE_NAME',\n",
       " 'OFFICE_REGION_OFFICE_REGION',\n",
       " 'OFFICE_COUNTRY_OFFICE_COUNTRY',\n",
       " 'BUILDING_BUILDING',\n",
       " 'ROOM_ROOM',\n",
       " 'GxP_FLAG_GxP_FLAG',\n",
       " 'ASSET_DESCRIPTION_ASSET_DESCRIPTION',\n",
       " 'AMGEN_COST_CAT_AMGEN_COST_CAT',\n",
       " 'MANUFACTURER_MANUFACTURER',\n",
       " 'MODEL_MODEL',\n",
       " 'LEVEL-1_SERVICE_TRIAGE_LEVEL-1_SERVICE_TRIAGE',\n",
       " 'LEVEL-2_SERVICE_TRIAGE_DS_LEVEL-2_SERVICE_TRIAGE_DS',\n",
       " 'COVERAGE_COVERAGE',\n",
       " 'ENTITLEMENT_EVENTS_ENTITLEMENT_EVENTS',\n",
       " 'EQUIPMENT_ID_EQUIPMENT_ID',\n",
       " 'SERIAL_SERIAL',\n",
       " 'YOM_YOM',\n",
       " 'CALL_RECEIVED_DATE_max',\n",
       " 'CALL_RECEIVED_DATE_min',\n",
       " 'SERVICE_ORDER_ID_SERVICE_ORDER_ID',\n",
       " 'BILLABLE_BILLABLE',\n",
       " 'ACTUAL_DOWNTIME_mean',\n",
       " 'ACTUAL_DOWNTIME_std',\n",
       " 'ACTUAL_DOWNTIME_sum',\n",
       " 'MAINTENANCE_TIME_mean',\n",
       " 'MAINTENANCE_TIME_std',\n",
       " 'MAINTENANCE_TIME_sum',\n",
       " 'DOWNTIME_HOURS_mean',\n",
       " 'DOWNTIME_HOURS_std',\n",
       " 'DOWNTIME_HOURS_sum',\n",
       " 'RESPONSE_TIME_mean',\n",
       " 'RESPONSE_TIME_std',\n",
       " 'RESPONSE_TIME_sum',\n",
       " 'LINE_ITEM_CNTR_VALUE_mean',\n",
       " 'LINE_ITEM_CNTR_VALUE_std',\n",
       " 'LINE_ITEM_CNTR_VALUE_sum',\n",
       " 'VAL_INVOICES_RAISED_USD_mean',\n",
       " 'VAL_INVOICES_RAISED_USD_std',\n",
       " 'VAL_INVOICES_RAISED_USD_sum',\n",
       " 'sum_parts_mean',\n",
       " 'sum_parts_std',\n",
       " 'sum_parts_sum',\n",
       " 'u_parts_mean',\n",
       " 'u_parts_std',\n",
       " 'u_parts_sum',\n",
       " 'part_cost_mean',\n",
       " 'part_cost_std',\n",
       " 'part_cost_sum',\n",
       " 'engn_tier',\n",
       " 'repairs',\n",
       " 'timeframe',\n",
       " 'repairs_per_year',\n",
       " 'TARGET']"
      ]
     },
     "execution_count": 11,
     "metadata": {},
     "output_type": "execute_result"
    }
   ],
   "source": [
    "#list all our columns to copy and paste into the next step\n",
    "list(in1.columns)"
   ]
  },
  {
   "cell_type": "code",
   "execution_count": 7,
   "metadata": {},
   "outputs": [],
   "source": [
    "#comment out the columns we don't want to use as predictors\n",
    "x=[\n",
    " 'ASSET_DESCRIPTION',\n",
    "#  'ONESOURCE_TAG',#unique component identifier\n",
    "#  'SYSTEM_ID_SYSTEM_ID',#unique system identifier\n",
    " 'DEPARTMENT_DEPARTMENT',\n",
    " 'CUSTOMER_NAME_CUSTOMER_NAME',\n",
    " 'SITE_NAME_SITE_NAME',\n",
    " 'OFFICE_REGION_OFFICE_REGION',\n",
    " 'OFFICE_COUNTRY_OFFICE_COUNTRY',\n",
    " 'BUILDING_BUILDING',\n",
    " 'ROOM_ROOM',\n",
    " 'GxP_FLAG_GxP_FLAG',#is the lab GxP regulated?\n",
    "#  'ASSET_DESCRIPTION_ASSET_DESCRIPTION',#duplicate column\n",
    "#  'AMGEN_COST_CAT_AMGEN_COST_CAT', #specific to only 1 client\n",
    " 'MANUFACTURER_MANUFACTURER',\n",
    " 'MODEL_MODEL',\n",
    " 'LEVEL-1_SERVICE_TRIAGE_LEVEL-1_SERVICE_TRIAGE',#level 1 contract category\n",
    " 'LEVEL-2_SERVICE_TRIAGE_DS_LEVEL-2_SERVICE_TRIAGE_DS',#level 2 contract category\n",
    " 'COVERAGE_COVERAGE',\n",
    " 'ENTITLEMENT_EVENTS_ENTITLEMENT_EVENTS',\n",
    "#  'EQUIPMENT_ID_EQUIPMENT_ID',#unique identifier of component\n",
    "#  'SERIAL_SERIAL', #serial number\n",
    " 'YOM_YOM',#year of manufacturer\n",
    "#  'CALL_RECEIVED_DATE_max',#min date a call was received\n",
    "#  'CALL_RECEIVED_DATE_min',#max data a call was received\n",
    " 'SERVICE_ORDER_ID_SERVICE_ORDER_ID',#count of services\n",
    " 'BILLABLE_BILLABLE',#count of billable services (not covered under contract entitlements)\n",
    " 'ACTUAL_DOWNTIME_mean',\n",
    " 'ACTUAL_DOWNTIME_std',\n",
    " 'ACTUAL_DOWNTIME_sum',\n",
    " 'MAINTENANCE_TIME_mean',\n",
    " 'MAINTENANCE_TIME_std',\n",
    " 'MAINTENANCE_TIME_sum',\n",
    " 'DOWNTIME_HOURS_mean',\n",
    " 'DOWNTIME_HOURS_std',\n",
    " 'DOWNTIME_HOURS_sum',\n",
    " 'RESPONSE_TIME_mean',\n",
    " 'RESPONSE_TIME_std',\n",
    " 'RESPONSE_TIME_sum',\n",
    " 'LINE_ITEM_CNTR_VALUE_mean',#mean value of contract on the component\n",
    " 'LINE_ITEM_CNTR_VALUE_std',\n",
    " 'LINE_ITEM_CNTR_VALUE_sum',\n",
    " 'VAL_INVOICES_RAISED_USD_mean',#mean value of invoices raised by client that are not included in conract\n",
    " 'VAL_INVOICES_RAISED_USD_std',\n",
    " 'VAL_INVOICES_RAISED_USD_sum',\n",
    " 'sum_parts_mean',#mean number of parts used in the service call\n",
    " 'sum_parts_std',\n",
    " 'sum_parts_sum',\n",
    " 'u_parts_mean',#mean unique parts used in the service call\n",
    " 'u_parts_std',\n",
    " 'u_parts_sum',\n",
    " 'part_cost_mean',#mean part cost used in the service call\n",
    " 'part_cost_std',\n",
    " 'part_cost_sum',\n",
    " 'engn_tier',#mode of the engineer tier of the CSE working on the call\n",
    " 'repairs',#total repairs\n",
    " 'timeframe',#number of days for which we have data on this component\n",
    " 'repairs_per_year'#historical number of repairs per year\n",
    "#     ,\n",
    "#  'TARGET'    #target variable\n",
    "]"
   ]
  },
  {
   "cell_type": "markdown",
   "metadata": {},
   "source": [
    "## These are the data we can use\n",
    "with x as the list of predictors and y as the target"
   ]
  },
  {
   "cell_type": "code",
   "execution_count": 8,
   "metadata": {},
   "outputs": [
    {
     "name": "stdout",
     "output_type": "stream",
     "text": [
      "['ASSET_DESCRIPTION', 'DEPARTMENT_DEPARTMENT', 'CUSTOMER_NAME_CUSTOMER_NAME', 'SITE_NAME_SITE_NAME', 'OFFICE_REGION_OFFICE_REGION', 'OFFICE_COUNTRY_OFFICE_COUNTRY', 'BUILDING_BUILDING', 'ROOM_ROOM', 'GxP_FLAG_GxP_FLAG', 'MANUFACTURER_MANUFACTURER', 'MODEL_MODEL', 'LEVEL-1_SERVICE_TRIAGE_LEVEL-1_SERVICE_TRIAGE', 'LEVEL-2_SERVICE_TRIAGE_DS_LEVEL-2_SERVICE_TRIAGE_DS', 'COVERAGE_COVERAGE', 'ENTITLEMENT_EVENTS_ENTITLEMENT_EVENTS', 'YOM_YOM', 'SERVICE_ORDER_ID_SERVICE_ORDER_ID', 'BILLABLE_BILLABLE', 'ACTUAL_DOWNTIME_mean', 'ACTUAL_DOWNTIME_std', 'ACTUAL_DOWNTIME_sum', 'MAINTENANCE_TIME_mean', 'MAINTENANCE_TIME_std', 'MAINTENANCE_TIME_sum', 'DOWNTIME_HOURS_mean', 'DOWNTIME_HOURS_std', 'DOWNTIME_HOURS_sum', 'RESPONSE_TIME_mean', 'RESPONSE_TIME_std', 'RESPONSE_TIME_sum', 'LINE_ITEM_CNTR_VALUE_mean', 'LINE_ITEM_CNTR_VALUE_std', 'LINE_ITEM_CNTR_VALUE_sum', 'VAL_INVOICES_RAISED_USD_mean', 'VAL_INVOICES_RAISED_USD_std', 'VAL_INVOICES_RAISED_USD_sum', 'sum_parts_mean', 'sum_parts_std', 'sum_parts_sum', 'u_parts_mean', 'u_parts_std', 'u_parts_sum', 'part_cost_mean', 'part_cost_std', 'part_cost_sum', 'engn_tier', 'repairs', 'timeframe', 'repairs_per_year']\n",
      "TARGET\n"
     ]
    }
   ],
   "source": [
    "print(x)\n",
    "print(y)"
   ]
  },
  {
   "cell_type": "markdown",
   "metadata": {},
   "source": [
    "### To get arrays, like we used in one of our examples"
   ]
  },
  {
   "cell_type": "code",
   "execution_count": 9,
   "metadata": {},
   "outputs": [
    {
     "data": {
      "text/plain": [
       "(35354, 49)"
      ]
     },
     "execution_count": 9,
     "metadata": {},
     "output_type": "execute_result"
    }
   ],
   "source": [
    "X=in1.loc[:,x]\n",
    "X.shape"
   ]
  },
  {
   "cell_type": "code",
   "execution_count": 10,
   "metadata": {},
   "outputs": [
    {
     "data": {
      "text/plain": [
       "(35354,)"
      ]
     },
     "execution_count": 10,
     "metadata": {},
     "output_type": "execute_result"
    }
   ],
   "source": [
    "Y=in1.loc[:,y]\n",
    "Y.shape"
   ]
  },
  {
   "cell_type": "markdown",
   "metadata": {},
   "source": [
    "---"
   ]
  },
  {
   "cell_type": "markdown",
   "metadata": {},
   "source": [
    "## Simple Logistic Regression"
   ]
  },
  {
   "cell_type": "code",
   "execution_count": null,
   "metadata": {},
   "outputs": [],
   "source": []
  },
  {
   "cell_type": "markdown",
   "metadata": {},
   "source": [
    "## Logistic Regression with Regularization"
   ]
  },
  {
   "cell_type": "code",
   "execution_count": null,
   "metadata": {},
   "outputs": [],
   "source": []
  },
  {
   "cell_type": "markdown",
   "metadata": {},
   "source": [
    "## Logistic Regression with PCA (principal component analysis)"
   ]
  },
  {
   "cell_type": "code",
   "execution_count": null,
   "metadata": {},
   "outputs": [],
   "source": []
  },
  {
   "cell_type": "markdown",
   "metadata": {},
   "source": [
    "# Bonus\n",
    "## Logistic Regression with LDA (linear discriminant analysis)"
   ]
  },
  {
   "cell_type": "code",
   "execution_count": null,
   "metadata": {},
   "outputs": [],
   "source": []
  }
 ],
 "metadata": {
  "kernelspec": {
   "display_name": "Python 3",
   "language": "python",
   "name": "python3"
  },
  "language_info": {
   "codemirror_mode": {
    "name": "ipython",
    "version": 3
   },
   "file_extension": ".py",
   "mimetype": "text/x-python",
   "name": "python",
   "nbconvert_exporter": "python",
   "pygments_lexer": "ipython3",
   "version": "3.6.8"
  }
 },
 "nbformat": 4,
 "nbformat_minor": 2
}
