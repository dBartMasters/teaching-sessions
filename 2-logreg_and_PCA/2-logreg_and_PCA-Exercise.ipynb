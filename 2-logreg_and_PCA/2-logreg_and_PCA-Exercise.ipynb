{
 "cells": [
  {
   "cell_type": "code",
   "execution_count": 69,
   "metadata": {},
   "outputs": [],
   "source": [
    "import numpy as np\n",
    "import pandas as pd\n",
    "import matplotlib.pyplot as plt\n",
    "import seaborn as sns\n",
    "\n",
    "from sklearn import linear_model, decomposition, datasets\n",
    "from sklearn.discriminant_analysis import LinearDiscriminantAnalysis\n",
    "from sklearn.preprocessing import StandardScaler\n",
    "\n",
    "from sklearn.metrics import roc_auc_score\n",
    "from sklearn.metrics import roc_curve\n",
    "from sklearn.metrics import classification_report\n",
    "\n",
    "from sklearn.model_selection import train_test_split\n",
    "from sklearn.linear_model import LogisticRegression\n",
    "from sklearn import metrics"
   ]
  },
  {
   "cell_type": "code",
   "execution_count": 31,
   "metadata": {},
   "outputs": [],
   "source": [
    "in1=pd.read_csv('y_df_utf-8.csv',delimiter='\\t')"
   ]
  },
  {
   "cell_type": "code",
   "execution_count": 32,
   "metadata": {},
   "outputs": [
    {
     "data": {
      "text/html": [
       "<div>\n",
       "<style scoped>\n",
       "    .dataframe tbody tr th:only-of-type {\n",
       "        vertical-align: middle;\n",
       "    }\n",
       "\n",
       "    .dataframe tbody tr th {\n",
       "        vertical-align: top;\n",
       "    }\n",
       "\n",
       "    .dataframe thead th {\n",
       "        text-align: right;\n",
       "    }\n",
       "</style>\n",
       "<table border=\"1\" class=\"dataframe\">\n",
       "  <thead>\n",
       "    <tr style=\"text-align: right;\">\n",
       "      <th></th>\n",
       "      <th>ENTITLEMENT_EVENTS_ENTITLEMENT_EVENTS</th>\n",
       "      <th>EQUIPMENT_ID_EQUIPMENT_ID</th>\n",
       "      <th>YOM_YOM</th>\n",
       "      <th>SERVICE_ORDER_ID_SERVICE_ORDER_ID</th>\n",
       "      <th>BILLABLE_BILLABLE</th>\n",
       "      <th>ACTUAL_DOWNTIME_mean</th>\n",
       "      <th>ACTUAL_DOWNTIME_std</th>\n",
       "      <th>ACTUAL_DOWNTIME_sum</th>\n",
       "      <th>MAINTENANCE_TIME_mean</th>\n",
       "      <th>MAINTENANCE_TIME_std</th>\n",
       "      <th>...</th>\n",
       "      <th>u_parts_mean</th>\n",
       "      <th>u_parts_std</th>\n",
       "      <th>u_parts_sum</th>\n",
       "      <th>part_cost_mean</th>\n",
       "      <th>part_cost_std</th>\n",
       "      <th>part_cost_sum</th>\n",
       "      <th>repairs</th>\n",
       "      <th>timeframe</th>\n",
       "      <th>repairs_per_year</th>\n",
       "      <th>TARGET</th>\n",
       "    </tr>\n",
       "  </thead>\n",
       "  <tbody>\n",
       "    <tr>\n",
       "      <th>count</th>\n",
       "      <td>35354.000000</td>\n",
       "      <td>3.535400e+04</td>\n",
       "      <td>14855.000000</td>\n",
       "      <td>35354.000000</td>\n",
       "      <td>35354.000000</td>\n",
       "      <td>33112.000000</td>\n",
       "      <td>29386.000000</td>\n",
       "      <td>35354.000000</td>\n",
       "      <td>35354.000000</td>\n",
       "      <td>33597.000000</td>\n",
       "      <td>...</td>\n",
       "      <td>21487.000000</td>\n",
       "      <td>14925.000000</td>\n",
       "      <td>35354.000000</td>\n",
       "      <td>21487.000000</td>\n",
       "      <td>14925.000000</td>\n",
       "      <td>35354.000000</td>\n",
       "      <td>35354.000000</td>\n",
       "      <td>35354.000000</td>\n",
       "      <td>35354.000000</td>\n",
       "      <td>35354.000000</td>\n",
       "    </tr>\n",
       "    <tr>\n",
       "      <th>mean</th>\n",
       "      <td>1.111671</td>\n",
       "      <td>1.123584e+07</td>\n",
       "      <td>2003.596701</td>\n",
       "      <td>5.339085</td>\n",
       "      <td>0.549528</td>\n",
       "      <td>162.255067</td>\n",
       "      <td>158.454564</td>\n",
       "      <td>609.802639</td>\n",
       "      <td>1.863527</td>\n",
       "      <td>1.634517</td>\n",
       "      <td>...</td>\n",
       "      <td>1.689779</td>\n",
       "      <td>0.811962</td>\n",
       "      <td>3.279799</td>\n",
       "      <td>407.883360</td>\n",
       "      <td>328.163182</td>\n",
       "      <td>855.551002</td>\n",
       "      <td>1.158737</td>\n",
       "      <td>636.735306</td>\n",
       "      <td>6.580091</td>\n",
       "      <td>0.077332</td>\n",
       "    </tr>\n",
       "    <tr>\n",
       "      <th>std</th>\n",
       "      <td>0.972904</td>\n",
       "      <td>3.609420e+05</td>\n",
       "      <td>77.003863</td>\n",
       "      <td>22.005182</td>\n",
       "      <td>4.644691</td>\n",
       "      <td>241.600563</td>\n",
       "      <td>336.666139</td>\n",
       "      <td>1752.307503</td>\n",
       "      <td>7.796296</td>\n",
       "      <td>21.278418</td>\n",
       "      <td>...</td>\n",
       "      <td>1.204964</td>\n",
       "      <td>0.914488</td>\n",
       "      <td>13.505865</td>\n",
       "      <td>824.705730</td>\n",
       "      <td>970.484281</td>\n",
       "      <td>3824.750301</td>\n",
       "      <td>8.478740</td>\n",
       "      <td>242.524433</td>\n",
       "      <td>46.964577</td>\n",
       "      <td>0.267121</td>\n",
       "    </tr>\n",
       "    <tr>\n",
       "      <th>min</th>\n",
       "      <td>0.000000</td>\n",
       "      <td>1.001528e+07</td>\n",
       "      <td>0.000000</td>\n",
       "      <td>1.000000</td>\n",
       "      <td>0.000000</td>\n",
       "      <td>-10091.429537</td>\n",
       "      <td>0.000000</td>\n",
       "      <td>-30274.288612</td>\n",
       "      <td>0.000000</td>\n",
       "      <td>0.000000</td>\n",
       "      <td>...</td>\n",
       "      <td>0.000000</td>\n",
       "      <td>0.000000</td>\n",
       "      <td>0.000000</td>\n",
       "      <td>-3513.140000</td>\n",
       "      <td>0.000000</td>\n",
       "      <td>-7026.280000</td>\n",
       "      <td>0.000000</td>\n",
       "      <td>1.000000</td>\n",
       "      <td>0.000000</td>\n",
       "      <td>0.000000</td>\n",
       "    </tr>\n",
       "    <tr>\n",
       "      <th>25%</th>\n",
       "      <td>1.000000</td>\n",
       "      <td>1.095457e+07</td>\n",
       "      <td>2003.000000</td>\n",
       "      <td>3.000000</td>\n",
       "      <td>0.000000</td>\n",
       "      <td>37.048611</td>\n",
       "      <td>44.793467</td>\n",
       "      <td>69.697984</td>\n",
       "      <td>0.650000</td>\n",
       "      <td>0.316228</td>\n",
       "      <td>...</td>\n",
       "      <td>1.000000</td>\n",
       "      <td>0.000000</td>\n",
       "      <td>0.000000</td>\n",
       "      <td>0.000000</td>\n",
       "      <td>0.000000</td>\n",
       "      <td>0.000000</td>\n",
       "      <td>0.000000</td>\n",
       "      <td>511.000000</td>\n",
       "      <td>0.000000</td>\n",
       "      <td>0.000000</td>\n",
       "    </tr>\n",
       "    <tr>\n",
       "      <th>50%</th>\n",
       "      <td>1.000000</td>\n",
       "      <td>1.134598e+07</td>\n",
       "      <td>2006.000000</td>\n",
       "      <td>4.000000</td>\n",
       "      <td>0.000000</td>\n",
       "      <td>110.502109</td>\n",
       "      <td>103.019719</td>\n",
       "      <td>341.097912</td>\n",
       "      <td>1.005556</td>\n",
       "      <td>0.680686</td>\n",
       "      <td>...</td>\n",
       "      <td>1.500000</td>\n",
       "      <td>0.577350</td>\n",
       "      <td>1.000000</td>\n",
       "      <td>87.542857</td>\n",
       "      <td>51.110499</td>\n",
       "      <td>0.000000</td>\n",
       "      <td>0.000000</td>\n",
       "      <td>720.000000</td>\n",
       "      <td>0.000000</td>\n",
       "      <td>0.000000</td>\n",
       "    </tr>\n",
       "    <tr>\n",
       "      <th>75%</th>\n",
       "      <td>1.000000</td>\n",
       "      <td>1.153912e+07</td>\n",
       "      <td>2010.000000</td>\n",
       "      <td>6.000000</td>\n",
       "      <td>1.000000</td>\n",
       "      <td>225.999999</td>\n",
       "      <td>192.417480</td>\n",
       "      <td>803.496804</td>\n",
       "      <td>2.250000</td>\n",
       "      <td>1.732051</td>\n",
       "      <td>...</td>\n",
       "      <td>2.000000</td>\n",
       "      <td>1.154701</td>\n",
       "      <td>4.000000</td>\n",
       "      <td>512.995000</td>\n",
       "      <td>359.804215</td>\n",
       "      <td>494.810000</td>\n",
       "      <td>1.000000</td>\n",
       "      <td>786.000000</td>\n",
       "      <td>0.850816</td>\n",
       "      <td>0.000000</td>\n",
       "    </tr>\n",
       "    <tr>\n",
       "      <th>max</th>\n",
       "      <td>14.000000</td>\n",
       "      <td>1.202774e+07</td>\n",
       "      <td>2042.000000</td>\n",
       "      <td>3685.000000</td>\n",
       "      <td>829.000000</td>\n",
       "      <td>22844.776528</td>\n",
       "      <td>44889.110831</td>\n",
       "      <td>166002.718306</td>\n",
       "      <td>1015.666667</td>\n",
       "      <td>2581.824420</td>\n",
       "      <td>...</td>\n",
       "      <td>23.000000</td>\n",
       "      <td>8.485281</td>\n",
       "      <td>1782.000000</td>\n",
       "      <td>46419.162500</td>\n",
       "      <td>82159.926145</td>\n",
       "      <td>360762.860000</td>\n",
       "      <td>1471.000000</td>\n",
       "      <td>1006.000000</td>\n",
       "      <td>1095.000000</td>\n",
       "      <td>1.000000</td>\n",
       "    </tr>\n",
       "  </tbody>\n",
       "</table>\n",
       "<p>8 rows × 36 columns</p>\n",
       "</div>"
      ],
      "text/plain": [
       "       ENTITLEMENT_EVENTS_ENTITLEMENT_EVENTS  EQUIPMENT_ID_EQUIPMENT_ID  \\\n",
       "count                           35354.000000               3.535400e+04   \n",
       "mean                                1.111671               1.123584e+07   \n",
       "std                                 0.972904               3.609420e+05   \n",
       "min                                 0.000000               1.001528e+07   \n",
       "25%                                 1.000000               1.095457e+07   \n",
       "50%                                 1.000000               1.134598e+07   \n",
       "75%                                 1.000000               1.153912e+07   \n",
       "max                                14.000000               1.202774e+07   \n",
       "\n",
       "            YOM_YOM  SERVICE_ORDER_ID_SERVICE_ORDER_ID  BILLABLE_BILLABLE  \\\n",
       "count  14855.000000                       35354.000000       35354.000000   \n",
       "mean    2003.596701                           5.339085           0.549528   \n",
       "std       77.003863                          22.005182           4.644691   \n",
       "min        0.000000                           1.000000           0.000000   \n",
       "25%     2003.000000                           3.000000           0.000000   \n",
       "50%     2006.000000                           4.000000           0.000000   \n",
       "75%     2010.000000                           6.000000           1.000000   \n",
       "max     2042.000000                        3685.000000         829.000000   \n",
       "\n",
       "       ACTUAL_DOWNTIME_mean  ACTUAL_DOWNTIME_std  ACTUAL_DOWNTIME_sum  \\\n",
       "count          33112.000000         29386.000000         35354.000000   \n",
       "mean             162.255067           158.454564           609.802639   \n",
       "std              241.600563           336.666139          1752.307503   \n",
       "min           -10091.429537             0.000000        -30274.288612   \n",
       "25%               37.048611            44.793467            69.697984   \n",
       "50%              110.502109           103.019719           341.097912   \n",
       "75%              225.999999           192.417480           803.496804   \n",
       "max            22844.776528         44889.110831        166002.718306   \n",
       "\n",
       "       MAINTENANCE_TIME_mean  MAINTENANCE_TIME_std  ...  u_parts_mean  \\\n",
       "count           35354.000000          33597.000000  ...  21487.000000   \n",
       "mean                1.863527              1.634517  ...      1.689779   \n",
       "std                 7.796296             21.278418  ...      1.204964   \n",
       "min                 0.000000              0.000000  ...      0.000000   \n",
       "25%                 0.650000              0.316228  ...      1.000000   \n",
       "50%                 1.005556              0.680686  ...      1.500000   \n",
       "75%                 2.250000              1.732051  ...      2.000000   \n",
       "max              1015.666667           2581.824420  ...     23.000000   \n",
       "\n",
       "        u_parts_std   u_parts_sum  part_cost_mean  part_cost_std  \\\n",
       "count  14925.000000  35354.000000    21487.000000   14925.000000   \n",
       "mean       0.811962      3.279799      407.883360     328.163182   \n",
       "std        0.914488     13.505865      824.705730     970.484281   \n",
       "min        0.000000      0.000000    -3513.140000       0.000000   \n",
       "25%        0.000000      0.000000        0.000000       0.000000   \n",
       "50%        0.577350      1.000000       87.542857      51.110499   \n",
       "75%        1.154701      4.000000      512.995000     359.804215   \n",
       "max        8.485281   1782.000000    46419.162500   82159.926145   \n",
       "\n",
       "       part_cost_sum       repairs     timeframe  repairs_per_year  \\\n",
       "count   35354.000000  35354.000000  35354.000000      35354.000000   \n",
       "mean      855.551002      1.158737    636.735306          6.580091   \n",
       "std      3824.750301      8.478740    242.524433         46.964577   \n",
       "min     -7026.280000      0.000000      1.000000          0.000000   \n",
       "25%         0.000000      0.000000    511.000000          0.000000   \n",
       "50%         0.000000      0.000000    720.000000          0.000000   \n",
       "75%       494.810000      1.000000    786.000000          0.850816   \n",
       "max    360762.860000   1471.000000   1006.000000       1095.000000   \n",
       "\n",
       "             TARGET  \n",
       "count  35354.000000  \n",
       "mean       0.077332  \n",
       "std        0.267121  \n",
       "min        0.000000  \n",
       "25%        0.000000  \n",
       "50%        0.000000  \n",
       "75%        0.000000  \n",
       "max        1.000000  \n",
       "\n",
       "[8 rows x 36 columns]"
      ]
     },
     "execution_count": 32,
     "metadata": {},
     "output_type": "execute_result"
    }
   ],
   "source": [
    "in1.describe()"
   ]
  },
  {
   "cell_type": "code",
   "execution_count": 33,
   "metadata": {},
   "outputs": [
    {
     "name": "stdout",
     "output_type": "stream",
     "text": [
      "(35354, 58)\n",
      "(35354, 58)\n"
     ]
    }
   ],
   "source": [
    "print(in1.shape)\n",
    "print(in1.dropna(subset=['TARGET']).shape)"
   ]
  },
  {
   "cell_type": "code",
   "execution_count": 34,
   "metadata": {},
   "outputs": [],
   "source": [
    "in1.dropna(subset=['TARGET'],inplace=True)"
   ]
  },
  {
   "cell_type": "code",
   "execution_count": 35,
   "metadata": {},
   "outputs": [
    {
     "data": {
      "text/plain": [
       "0.0    32620\n",
       "1.0     2734\n",
       "Name: TARGET, dtype: int64"
      ]
     },
     "execution_count": 35,
     "metadata": {},
     "output_type": "execute_result"
    }
   ],
   "source": [
    "in1.TARGET.value_counts()"
   ]
  },
  {
   "cell_type": "code",
   "execution_count": 36,
   "metadata": {},
   "outputs": [
    {
     "data": {
      "text/plain": [
       "<matplotlib.axes._subplots.AxesSubplot at 0x11715e10>"
      ]
     },
     "execution_count": 36,
     "metadata": {},
     "output_type": "execute_result"
    },
    {
     "data": {
      "image/png": "[encoded data removed]",
      "text/plain": [
       "<Figure size 432x288 with 1 Axes>"
      ]
     },
     "metadata": {
      "needs_background": "light"
     },
     "output_type": "display_data"
    }
   ],
   "source": [
    "sns.countplot(x='TARGET',data=in1, palette='hls')\n",
    "# plt.savefig(\"count_plot.png\")"
   ]
  },
  {
   "cell_type": "markdown",
   "metadata": {},
   "source": [
    "---------------------------------\n",
    "# Excercise Portion"
   ]
  },
  {
   "cell_type": "markdown",
   "metadata": {},
   "source": [
    "### get some predictors"
   ]
  },
  {
   "cell_type": "code",
   "execution_count": 37,
   "metadata": {},
   "outputs": [],
   "source": [
    "#get categorical variables\n",
    "cat_vars=list(in1.select_dtypes(include='object').columns)\n",
    "# cat_vars"
   ]
  },
  {
   "cell_type": "code",
   "execution_count": 38,
   "metadata": {},
   "outputs": [
    {
     "data": {
      "text/plain": [
       "['ASSET_DESCRIPTION',\n",
       " 'ONESOURCE_TAG',\n",
       " 'SYSTEM_ID_SYSTEM_ID',\n",
       " 'DEPARTMENT_DEPARTMENT',\n",
       " 'CUSTOMER_NAME_CUSTOMER_NAME',\n",
       " 'SITE_NAME_SITE_NAME',\n",
       " 'OFFICE_REGION_OFFICE_REGION',\n",
       " 'OFFICE_COUNTRY_OFFICE_COUNTRY',\n",
       " 'BUILDING_BUILDING',\n",
       " 'ROOM_ROOM',\n",
       " 'GxP_FLAG_GxP_FLAG',\n",
       " 'ASSET_DESCRIPTION_ASSET_DESCRIPTION',\n",
       " 'AMGEN_COST_CAT_AMGEN_COST_CAT',\n",
       " 'MANUFACTURER_MANUFACTURER',\n",
       " 'MODEL_MODEL',\n",
       " 'LEVEL-1_SERVICE_TRIAGE_LEVEL-1_SERVICE_TRIAGE',\n",
       " 'LEVEL-2_SERVICE_TRIAGE_DS_LEVEL-2_SERVICE_TRIAGE_DS',\n",
       " 'COVERAGE_COVERAGE',\n",
       " 'SERIAL_SERIAL',\n",
       " 'CALL_RECEIVED_DATE_max',\n",
       " 'CALL_RECEIVED_DATE_min',\n",
       " 'engn_tier']"
      ]
     },
     "execution_count": 38,
     "metadata": {},
     "output_type": "execute_result"
    }
   ],
   "source": [
    "cat_vars"
   ]
  },
  {
   "cell_type": "code",
   "execution_count": 39,
   "metadata": {},
   "outputs": [],
   "source": [
    "#drop some that we don't want to create dummy variables for\n",
    "cat_vars.remove('ONESOURCE_TAG')\n",
    "cat_vars.remove('SYSTEM_ID_SYSTEM_ID')\n",
    "cat_vars.remove('ASSET_DESCRIPTION_ASSET_DESCRIPTION')#duplicate\n",
    "cat_vars.remove('SERIAL_SERIAL')\n",
    "cat_vars.remove('CALL_RECEIVED_DATE_max')\n",
    "cat_vars.remove('CALL_RECEIVED_DATE_min')\n",
    "cat_vars.remove('COVERAGE_COVERAGE')\n",
    "cat_vars.remove('AMGEN_COST_CAT_AMGEN_COST_CAT')"
   ]
  },
  {
   "cell_type": "code",
   "execution_count": 40,
   "metadata": {},
   "outputs": [
    {
     "data": {
      "text/plain": [
       "['ASSET_DESCRIPTION',\n",
       " 'DEPARTMENT_DEPARTMENT',\n",
       " 'CUSTOMER_NAME_CUSTOMER_NAME',\n",
       " 'SITE_NAME_SITE_NAME',\n",
       " 'OFFICE_REGION_OFFICE_REGION',\n",
       " 'OFFICE_COUNTRY_OFFICE_COUNTRY',\n",
       " 'BUILDING_BUILDING',\n",
       " 'ROOM_ROOM',\n",
       " 'GxP_FLAG_GxP_FLAG',\n",
       " 'MANUFACTURER_MANUFACTURER',\n",
       " 'MODEL_MODEL',\n",
       " 'LEVEL-1_SERVICE_TRIAGE_LEVEL-1_SERVICE_TRIAGE',\n",
       " 'LEVEL-2_SERVICE_TRIAGE_DS_LEVEL-2_SERVICE_TRIAGE_DS',\n",
       " 'engn_tier']"
      ]
     },
     "execution_count": 40,
     "metadata": {},
     "output_type": "execute_result"
    }
   ],
   "source": [
    "cat_vars"
   ]
  },
  {
   "cell_type": "code",
   "execution_count": 41,
   "metadata": {},
   "outputs": [],
   "source": [
    "#create dummy variables\n",
    "for var in cat_vars:\n",
    "    cat_list='var'+'_'+var\n",
    "    cat_list = pd.get_dummies(in1[var], prefix=var)\n",
    "    in12=in1.join(cat_list)\n",
    "    in1=in12\n",
    "\n",
    "data_vars=in1.columns.values.tolist()\n",
    "to_keep=[i for i in data_vars if i not in cat_vars]"
   ]
  },
  {
   "cell_type": "code",
   "execution_count": 42,
   "metadata": {},
   "outputs": [],
   "source": [
    "xdrop=['ONESOURCE_TAG',\n",
    " 'SYSTEM_ID_SYSTEM_ID',\n",
    " 'ASSET_DESCRIPTION_ASSET_DESCRIPTION',\n",
    " 'EQUIPMENT_ID_EQUIPMENT_ID',\n",
    " 'SERIAL_SERIAL',\n",
    " 'CALL_RECEIVED_DATE_max',\n",
    " 'CALL_RECEIVED_DATE_min']"
   ]
  },
  {
   "cell_type": "code",
   "execution_count": 43,
   "metadata": {},
   "outputs": [],
   "source": [
    "for j in xdrop:\n",
    "    to_keep.remove(j)"
   ]
  },
  {
   "cell_type": "code",
   "execution_count": 44,
   "metadata": {},
   "outputs": [],
   "source": [
    "in3=in1[to_keep]"
   ]
  },
  {
   "cell_type": "code",
   "execution_count": 45,
   "metadata": {},
   "outputs": [
    {
     "data": {
      "text/plain": [
       "(35354, 14550)"
      ]
     },
     "execution_count": 45,
     "metadata": {},
     "output_type": "execute_result"
    }
   ],
   "source": [
    "in3.shape"
   ]
  },
  {
   "cell_type": "code",
   "execution_count": 46,
   "metadata": {},
   "outputs": [],
   "source": [
    "in3.fillna(value=0, inplace=True)"
   ]
  },
  {
   "cell_type": "code",
   "execution_count": 47,
   "metadata": {},
   "outputs": [
    {
     "data": {
      "text/html": [
       "<div>\n",
       "<style scoped>\n",
       "    .dataframe tbody tr th:only-of-type {\n",
       "        vertical-align: middle;\n",
       "    }\n",
       "\n",
       "    .dataframe tbody tr th {\n",
       "        vertical-align: top;\n",
       "    }\n",
       "\n",
       "    .dataframe thead th {\n",
       "        text-align: right;\n",
       "    }\n",
       "</style>\n",
       "<table border=\"1\" class=\"dataframe\">\n",
       "  <thead>\n",
       "    <tr style=\"text-align: right;\">\n",
       "      <th></th>\n",
       "      <th>AMGEN_COST_CAT_AMGEN_COST_CAT</th>\n",
       "      <th>COVERAGE_COVERAGE</th>\n",
       "      <th>ENTITLEMENT_EVENTS_ENTITLEMENT_EVENTS</th>\n",
       "      <th>YOM_YOM</th>\n",
       "      <th>SERVICE_ORDER_ID_SERVICE_ORDER_ID</th>\n",
       "      <th>BILLABLE_BILLABLE</th>\n",
       "      <th>ACTUAL_DOWNTIME_mean</th>\n",
       "      <th>ACTUAL_DOWNTIME_std</th>\n",
       "      <th>ACTUAL_DOWNTIME_sum</th>\n",
       "      <th>MAINTENANCE_TIME_mean</th>\n",
       "      <th>...</th>\n",
       "      <th>engn_tier_['JR' 'OTHER' 'SR']</th>\n",
       "      <th>engn_tier_['JR' 'OTHER']</th>\n",
       "      <th>engn_tier_['JR' 'OUTLIERS' 'SR']</th>\n",
       "      <th>engn_tier_['JR' 'OUTLIERS']</th>\n",
       "      <th>engn_tier_['JR' 'SR']</th>\n",
       "      <th>engn_tier_['OTHER' 'OUTLIERS' 'SR']</th>\n",
       "      <th>engn_tier_['OTHER' 'OUTLIERS']</th>\n",
       "      <th>engn_tier_['OTHER' 'SR']</th>\n",
       "      <th>engn_tier_['OUTLIERS' 'SR']</th>\n",
       "      <th>engn_tier_[]</th>\n",
       "    </tr>\n",
       "  </thead>\n",
       "  <tbody>\n",
       "    <tr>\n",
       "      <th>0</th>\n",
       "      <td>WELISMG</td>\n",
       "      <td>ZASM-Asset Manage;ZCON-Contract purchase;ZE01-...</td>\n",
       "      <td>1.0</td>\n",
       "      <td>0.0</td>\n",
       "      <td>6</td>\n",
       "      <td>1</td>\n",
       "      <td>225.382777</td>\n",
       "      <td>16.729153</td>\n",
       "      <td>676.148332</td>\n",
       "      <td>0.500000</td>\n",
       "      <td>...</td>\n",
       "      <td>0</td>\n",
       "      <td>0</td>\n",
       "      <td>0</td>\n",
       "      <td>0</td>\n",
       "      <td>0</td>\n",
       "      <td>0</td>\n",
       "      <td>0</td>\n",
       "      <td>0</td>\n",
       "      <td>0</td>\n",
       "      <td>0</td>\n",
       "    </tr>\n",
       "    <tr>\n",
       "      <th>1</th>\n",
       "      <td>WELISMG</td>\n",
       "      <td>ZASM-Asset Manage;ZCON-Contract purchase;ZE01-...</td>\n",
       "      <td>1.0</td>\n",
       "      <td>0.0</td>\n",
       "      <td>4</td>\n",
       "      <td>1</td>\n",
       "      <td>205.000000</td>\n",
       "      <td>0.000000</td>\n",
       "      <td>205.000000</td>\n",
       "      <td>0.250000</td>\n",
       "      <td>...</td>\n",
       "      <td>0</td>\n",
       "      <td>0</td>\n",
       "      <td>0</td>\n",
       "      <td>0</td>\n",
       "      <td>0</td>\n",
       "      <td>0</td>\n",
       "      <td>0</td>\n",
       "      <td>0</td>\n",
       "      <td>0</td>\n",
       "      <td>0</td>\n",
       "    </tr>\n",
       "    <tr>\n",
       "      <th>2</th>\n",
       "      <td>WELISMG</td>\n",
       "      <td>ZASM-Asset Manage;ZCON-Contract purchase;ZE01-...</td>\n",
       "      <td>1.0</td>\n",
       "      <td>0.0</td>\n",
       "      <td>5</td>\n",
       "      <td>1</td>\n",
       "      <td>221.189444</td>\n",
       "      <td>20.999893</td>\n",
       "      <td>442.378888</td>\n",
       "      <td>0.400000</td>\n",
       "      <td>...</td>\n",
       "      <td>0</td>\n",
       "      <td>0</td>\n",
       "      <td>0</td>\n",
       "      <td>0</td>\n",
       "      <td>0</td>\n",
       "      <td>0</td>\n",
       "      <td>0</td>\n",
       "      <td>0</td>\n",
       "      <td>0</td>\n",
       "      <td>0</td>\n",
       "    </tr>\n",
       "    <tr>\n",
       "      <th>3</th>\n",
       "      <td>WELISMG</td>\n",
       "      <td>ZASM-Asset Manage;ZCON-Contract purchase;ZE01-...</td>\n",
       "      <td>1.0</td>\n",
       "      <td>0.0</td>\n",
       "      <td>6</td>\n",
       "      <td>1</td>\n",
       "      <td>285.278194</td>\n",
       "      <td>83.113528</td>\n",
       "      <td>570.556388</td>\n",
       "      <td>0.333333</td>\n",
       "      <td>...</td>\n",
       "      <td>0</td>\n",
       "      <td>0</td>\n",
       "      <td>0</td>\n",
       "      <td>0</td>\n",
       "      <td>0</td>\n",
       "      <td>0</td>\n",
       "      <td>0</td>\n",
       "      <td>0</td>\n",
       "      <td>0</td>\n",
       "      <td>0</td>\n",
       "    </tr>\n",
       "    <tr>\n",
       "      <th>4</th>\n",
       "      <td>WELISMG</td>\n",
       "      <td>ZASM-Asset Manage;ZCON-Contract purchase;ZE01-...</td>\n",
       "      <td>1.0</td>\n",
       "      <td>0.0</td>\n",
       "      <td>5</td>\n",
       "      <td>1</td>\n",
       "      <td>221.044583</td>\n",
       "      <td>18.285978</td>\n",
       "      <td>442.089166</td>\n",
       "      <td>0.400000</td>\n",
       "      <td>...</td>\n",
       "      <td>0</td>\n",
       "      <td>0</td>\n",
       "      <td>0</td>\n",
       "      <td>0</td>\n",
       "      <td>0</td>\n",
       "      <td>0</td>\n",
       "      <td>0</td>\n",
       "      <td>0</td>\n",
       "      <td>0</td>\n",
       "      <td>0</td>\n",
       "    </tr>\n",
       "  </tbody>\n",
       "</table>\n",
       "<p>5 rows × 14550 columns</p>\n",
       "</div>"
      ],
      "text/plain": [
       "  AMGEN_COST_CAT_AMGEN_COST_CAT  \\\n",
       "0                       WELISMG   \n",
       "1                       WELISMG   \n",
       "2                       WELISMG   \n",
       "3                       WELISMG   \n",
       "4                       WELISMG   \n",
       "\n",
       "                                   COVERAGE_COVERAGE  \\\n",
       "0  ZASM-Asset Manage;ZCON-Contract purchase;ZE01-...   \n",
       "1  ZASM-Asset Manage;ZCON-Contract purchase;ZE01-...   \n",
       "2  ZASM-Asset Manage;ZCON-Contract purchase;ZE01-...   \n",
       "3  ZASM-Asset Manage;ZCON-Contract purchase;ZE01-...   \n",
       "4  ZASM-Asset Manage;ZCON-Contract purchase;ZE01-...   \n",
       "\n",
       "   ENTITLEMENT_EVENTS_ENTITLEMENT_EVENTS  YOM_YOM  \\\n",
       "0                                    1.0      0.0   \n",
       "1                                    1.0      0.0   \n",
       "2                                    1.0      0.0   \n",
       "3                                    1.0      0.0   \n",
       "4                                    1.0      0.0   \n",
       "\n",
       "   SERVICE_ORDER_ID_SERVICE_ORDER_ID  BILLABLE_BILLABLE  ACTUAL_DOWNTIME_mean  \\\n",
       "0                                  6                  1            225.382777   \n",
       "1                                  4                  1            205.000000   \n",
       "2                                  5                  1            221.189444   \n",
       "3                                  6                  1            285.278194   \n",
       "4                                  5                  1            221.044583   \n",
       "\n",
       "   ACTUAL_DOWNTIME_std  ACTUAL_DOWNTIME_sum  MAINTENANCE_TIME_mean  ...  \\\n",
       "0            16.729153           676.148332               0.500000  ...   \n",
       "1             0.000000           205.000000               0.250000  ...   \n",
       "2            20.999893           442.378888               0.400000  ...   \n",
       "3            83.113528           570.556388               0.333333  ...   \n",
       "4            18.285978           442.089166               0.400000  ...   \n",
       "\n",
       "   engn_tier_['JR' 'OTHER' 'SR']  engn_tier_['JR' 'OTHER']  \\\n",
       "0                              0                         0   \n",
       "1                              0                         0   \n",
       "2                              0                         0   \n",
       "3                              0                         0   \n",
       "4                              0                         0   \n",
       "\n",
       "   engn_tier_['JR' 'OUTLIERS' 'SR']  engn_tier_['JR' 'OUTLIERS']  \\\n",
       "0                                 0                            0   \n",
       "1                                 0                            0   \n",
       "2                                 0                            0   \n",
       "3                                 0                            0   \n",
       "4                                 0                            0   \n",
       "\n",
       "   engn_tier_['JR' 'SR']  engn_tier_['OTHER' 'OUTLIERS' 'SR']  \\\n",
       "0                      0                                    0   \n",
       "1                      0                                    0   \n",
       "2                      0                                    0   \n",
       "3                      0                                    0   \n",
       "4                      0                                    0   \n",
       "\n",
       "   engn_tier_['OTHER' 'OUTLIERS']  engn_tier_['OTHER' 'SR']  \\\n",
       "0                               0                         0   \n",
       "1                               0                         0   \n",
       "2                               0                         0   \n",
       "3                               0                         0   \n",
       "4                               0                         0   \n",
       "\n",
       "   engn_tier_['OUTLIERS' 'SR']  engn_tier_[]  \n",
       "0                            0             0  \n",
       "1                            0             0  \n",
       "2                            0             0  \n",
       "3                            0             0  \n",
       "4                            0             0  \n",
       "\n",
       "[5 rows x 14550 columns]"
      ]
     },
     "execution_count": 47,
     "metadata": {},
     "output_type": "execute_result"
    }
   ],
   "source": [
    "in3.head()"
   ]
  },
  {
   "cell_type": "markdown",
   "metadata": {},
   "source": [
    "## Logistic Regression"
   ]
  },
  {
   "cell_type": "code",
   "execution_count": 64,
   "metadata": {},
   "outputs": [],
   "source": [
    "X = in3.loc[:, (in3.columns != 'TARGET')].select_dtypes(include=np.number)\n",
    "y = in3.TARGET"
   ]
  },
  {
   "cell_type": "code",
   "execution_count": 65,
   "metadata": {},
   "outputs": [],
   "source": [
    "X_train, X_test, y_train, y_test = train_test_split(X, y, test_size=0.3, random_state=0)"
   ]
  },
  {
   "cell_type": "code",
   "execution_count": 66,
   "metadata": {},
   "outputs": [
    {
     "data": {
      "text/plain": [
       "LogisticRegression(C=1.0, class_weight='balanced', dual=False,\n",
       "          fit_intercept=True, intercept_scaling=1, max_iter=1000,\n",
       "          multi_class='warn', n_jobs=None, penalty='l2', random_state=None,\n",
       "          solver='liblinear', tol=0.0001, verbose=0, warm_start=False)"
      ]
     },
     "execution_count": 66,
     "metadata": {},
     "output_type": "execute_result"
    }
   ],
   "source": [
    "logreg = LogisticRegression(\n",
    "    solver='liblinear',\n",
    "    class_weight='balanced',\n",
    "    max_iter=1000\n",
    "#     C=0.25 #make this smaller (close to 0) to increase regularization strength\n",
    ")\n",
    "logreg.fit(X_train, y_train)"
   ]
  },
  {
   "cell_type": "markdown",
   "metadata": {},
   "source": [
    "### Predicting the test set results and calculating accuracy"
   ]
  },
  {
   "cell_type": "code",
   "execution_count": 67,
   "metadata": {
    "scrolled": true
   },
   "outputs": [
    {
     "name": "stdout",
     "output_type": "stream",
     "text": [
      "Accuracy of logistic regression classifier on test set: 0.76\n"
     ]
    }
   ],
   "source": [
    "y_pred = logreg.predict(X_test)\n",
    "print('Accuracy of logistic regression classifier on test set: {:.2f}'.format(logreg.score(X_test, y_test)))"
   ]
  },
  {
   "cell_type": "markdown",
   "metadata": {},
   "source": [
    "#### Other metrics"
   ]
  },
  {
   "cell_type": "code",
   "execution_count": 70,
   "metadata": {},
   "outputs": [
    {
     "name": "stdout",
     "output_type": "stream",
     "text": [
      "              precision    recall  f1-score   support\n",
      "\n",
      "         0.0       0.96      0.77      0.85      9746\n",
      "         1.0       0.19      0.63      0.29       861\n",
      "\n",
      "   micro avg       0.76      0.76      0.76     10607\n",
      "   macro avg       0.58      0.70      0.57     10607\n",
      "weighted avg       0.90      0.76      0.81     10607\n",
      "\n"
     ]
    }
   ],
   "source": [
    "print(classification_report(y_test, y_pred))"
   ]
  },
  {
   "cell_type": "markdown",
   "metadata": {},
   "source": [
    "### ROC curves"
   ]
  },
  {
   "cell_type": "code",
   "execution_count": 71,
   "metadata": {},
   "outputs": [
    {
     "data": {
      "image/png": "[encoded data removed]",
      "text/plain": [
       "<Figure size 1440x360 with 2 Axes>"
      ]
     },
     "metadata": {
      "needs_background": "light"
     },
     "output_type": "display_data"
    }
   ],
   "source": [
    "logit_roc_auc = roc_auc_score(y_train, logreg.predict(X_train))\n",
    "fpr, tpr, thresholds = roc_curve(y_train, logreg.predict_proba(X_train)[:,1])\n",
    "\n",
    "fig, (ax0, ax1) = plt.subplots(nrows=1,ncols=2,figsize=(20,5))\n",
    "\n",
    "# ax0.figure()\n",
    "ax0.plot(fpr, tpr, label='Logistic Regression (area = %0.2f)' % logit_roc_auc)\n",
    "ax0.plot([0, 1], [0, 1],'r--')\n",
    "# ax0.xlim([0.0, 1.0])\n",
    "# ax0.ylim([0.0, 1.05])\n",
    "ax0.set_xlabel('False Positive Rate')\n",
    "ax0.set_ylabel('True Positive Rate')\n",
    "ax0.set_title('Receiver operating characteristic Train')\n",
    "ax0.legend(loc=\"lower right\")\n",
    "# ax0.savefig('Log_ROC')\n",
    "\n",
    "ax1.plot(fpr, tpr, label='Logistic Regression (area = %0.2f)' % logit_roc_auc)\n",
    "ax1.plot([0, 1], [0, 1],'r--')\n",
    "# ax1.xlim([0.0, 1.0])\n",
    "# ax1.ylim([0.0, 1.05])\n",
    "ax1.set_xlabel('False Positive Rate')\n",
    "ax1.set_ylabel('True Positive Rate')\n",
    "ax1.set_title('Receiver operating characteristic Test')\n",
    "ax1.legend(loc=\"lower right\")\n",
    "# ax1.savefig('Log_ROC')\n",
    "\n",
    "plt.show()"
   ]
  },
  {
   "cell_type": "markdown",
   "metadata": {},
   "source": [
    "------------------------------------------------------------\n",
    "## Logistic Regression: Regularization"
   ]
  },
  {
   "cell_type": "code",
   "execution_count": 72,
   "metadata": {},
   "outputs": [
    {
     "data": {
      "text/plain": [
       "LogisticRegression(C=0.1, class_weight='balanced', dual=False,\n",
       "          fit_intercept=True, intercept_scaling=1, max_iter=1000,\n",
       "          multi_class='warn', n_jobs=None, penalty='l2', random_state=None,\n",
       "          solver='liblinear', tol=0.0001, verbose=0, warm_start=False)"
      ]
     },
     "execution_count": 72,
     "metadata": {},
     "output_type": "execute_result"
    }
   ],
   "source": [
    "logreg_r = LogisticRegression(\n",
    "    solver='liblinear',\n",
    "    class_weight='balanced',\n",
    "    max_iter=1000,\n",
    "    C=0.10 #make this smaller (close to 0) to increase regularization strength\n",
    ")\n",
    "logreg_r.fit(X_train, y_train)"
   ]
  },
  {
   "cell_type": "markdown",
   "metadata": {},
   "source": [
    "### Predicting the test set results and calculating accuracy"
   ]
  },
  {
   "cell_type": "code",
   "execution_count": 73,
   "metadata": {
    "scrolled": true
   },
   "outputs": [
    {
     "name": "stdout",
     "output_type": "stream",
     "text": [
      "Accuracy of logistic regression classifier on test set: 0.75\n"
     ]
    }
   ],
   "source": [
    "y_pred = logreg_r.predict(X_test)\n",
    "print('Accuracy of logistic regression classifier on test set: {:.2f}'.format(logreg_r.score(X_test, y_test)))"
   ]
  },
  {
   "cell_type": "markdown",
   "metadata": {},
   "source": [
    "#### Other metrics"
   ]
  },
  {
   "cell_type": "code",
   "execution_count": 74,
   "metadata": {},
   "outputs": [
    {
     "name": "stdout",
     "output_type": "stream",
     "text": [
      "              precision    recall  f1-score   support\n",
      "\n",
      "         0.0       0.96      0.76      0.85      9746\n",
      "         1.0       0.19      0.63      0.29       861\n",
      "\n",
      "   micro avg       0.75      0.75      0.75     10607\n",
      "   macro avg       0.57      0.69      0.57     10607\n",
      "weighted avg       0.90      0.75      0.80     10607\n",
      "\n"
     ]
    }
   ],
   "source": [
    "print(classification_report(y_test, y_pred))"
   ]
  },
  {
   "cell_type": "markdown",
   "metadata": {},
   "source": [
    "### ROC curves"
   ]
  },
  {
   "cell_type": "code",
   "execution_count": 75,
   "metadata": {},
   "outputs": [
    {
     "data": {
      "image/png": "[encoded data removed]",
      "text/plain": [
       "<Figure size 1440x360 with 2 Axes>"
      ]
     },
     "metadata": {
      "needs_background": "light"
     },
     "output_type": "display_data"
    }
   ],
   "source": [
    "logit_roc_auc = roc_auc_score(y_train, logreg_r.predict(X_train))\n",
    "fpr, tpr, thresholds = roc_curve(y_train, logreg_r.predict_proba(X_train)[:,1])\n",
    "\n",
    "fig, (ax0, ax1) = plt.subplots(nrows=1,ncols=2,figsize=(20,5))\n",
    "\n",
    "# ax0.figure()\n",
    "ax0.plot(fpr, tpr, label='Logistic Regression (area = %0.2f)' % logit_roc_auc)\n",
    "ax0.plot([0, 1], [0, 1],'r--')\n",
    "# ax0.xlim([0.0, 1.0])\n",
    "# ax0.ylim([0.0, 1.05])\n",
    "ax0.set_xlabel('False Positive Rate')\n",
    "ax0.set_ylabel('True Positive Rate')\n",
    "ax0.set_title('Receiver operating characteristic Train')\n",
    "ax0.legend(loc=\"lower right\")\n",
    "# ax0.savefig('Log_ROC')\n",
    "\n",
    "ax1.plot(fpr, tpr, label='Logistic Regression (area = %0.2f)' % logit_roc_auc)\n",
    "ax1.plot([0, 1], [0, 1],'r--')\n",
    "# ax1.xlim([0.0, 1.0])\n",
    "# ax1.ylim([0.0, 1.05])\n",
    "ax1.set_xlabel('False Positive Rate')\n",
    "ax1.set_ylabel('True Positive Rate')\n",
    "ax1.set_title('Receiver operating characteristic Test')\n",
    "ax1.legend(loc=\"lower right\")\n",
    "# ax1.savefig('Log_ROC')\n",
    "\n",
    "plt.show()"
   ]
  },
  {
   "cell_type": "markdown",
   "metadata": {},
   "source": [
    "## PCA"
   ]
  },
  {
   "cell_type": "code",
   "execution_count": 77,
   "metadata": {},
   "outputs": [
    {
     "data": {
      "text/plain": [
       "(35354, 14547)"
      ]
     },
     "execution_count": 77,
     "metadata": {},
     "output_type": "execute_result"
    }
   ],
   "source": [
    "X.shape"
   ]
  },
  {
   "cell_type": "code",
   "execution_count": 78,
   "metadata": {},
   "outputs": [
    {
     "name": "stderr",
     "output_type": "stream",
     "text": [
      "C:\\ProgramData\\Anaconda3\\lib\\site-packages\\sklearn\\preprocessing\\data.py:645: DataConversionWarning: Data with input dtype uint8, int64, float64 were all converted to float64 by StandardScaler.\n",
      "  return self.partial_fit(X, y)\n",
      "C:\\ProgramData\\Anaconda3\\lib\\site-packages\\sklearn\\base.py:464: DataConversionWarning: Data with input dtype uint8, int64, float64 were all converted to float64 by StandardScaler.\n",
      "  return self.fit(X, **fit_params).transform(X)\n"
     ]
    }
   ],
   "source": [
    "# X_in=StandardScaler().fit_transform(in1.select_dtypes(include=np.number).drop(columns='TARGET'))\n",
    "X_in=StandardScaler().fit_transform(X)\n",
    "# Y_in=in1.TARGET\n",
    "Y_in=y"
   ]
  },
  {
   "cell_type": "code",
   "execution_count": null,
   "metadata": {},
   "outputs": [],
   "source": [
    "# X_in=np.nan_to_num(X_in)"
   ]
  },
  {
   "cell_type": "code",
   "execution_count": 79,
   "metadata": {},
   "outputs": [],
   "source": [
    "pca = decomposition.PCA(n_components=20)"
   ]
  },
  {
   "cell_type": "code",
   "execution_count": 80,
   "metadata": {},
   "outputs": [
    {
     "data": {
      "text/plain": [
       "PCA(copy=True, iterated_power='auto', n_components=20, random_state=None,\n",
       "  svd_solver='auto', tol=0.0, whiten=False)"
      ]
     },
     "execution_count": 80,
     "metadata": {},
     "output_type": "execute_result"
    }
   ],
   "source": [
    "pca.fit(X_in)"
   ]
  },
  {
   "cell_type": "code",
   "execution_count": 81,
   "metadata": {},
   "outputs": [],
   "source": [
    "X_in_pca=pca.transform(X_in)"
   ]
  },
  {
   "cell_type": "code",
   "execution_count": 91,
   "metadata": {},
   "outputs": [
    {
     "name": "stdout",
     "output_type": "stream",
     "text": [
      "Original columns:\t 14547\n",
      "PCA dimension reduced columns:\t 20\n"
     ]
    }
   ],
   "source": [
    "print('Original columns:\\t',X_in.shape[1])\n",
    "print('PCA dimension reduced columns:\\t',X_in_pca.shape[1])"
   ]
  },
  {
   "cell_type": "code",
   "execution_count": 82,
   "metadata": {},
   "outputs": [],
   "source": [
    "X_train, X_test, y_train, y_test = train_test_split(X_in_pca, Y_in, test_size=0.3, random_state=0)"
   ]
  },
  {
   "cell_type": "code",
   "execution_count": 83,
   "metadata": {},
   "outputs": [
    {
     "data": {
      "text/plain": [
       "LogisticRegression(C=0.5, class_weight='balanced', dual=False,\n",
       "          fit_intercept=True, intercept_scaling=1, max_iter=1000,\n",
       "          multi_class='warn', n_jobs=None, penalty='l2', random_state=None,\n",
       "          solver='liblinear', tol=0.0001, verbose=0, warm_start=False)"
      ]
     },
     "execution_count": 83,
     "metadata": {},
     "output_type": "execute_result"
    }
   ],
   "source": [
    "logreg_pca = LogisticRegression(\n",
    "    solver='liblinear',\n",
    "    class_weight='balanced',\n",
    "    max_iter=1000,\n",
    "    C=0.50 #make this smaller (close to 0) to increase regularization strength\n",
    ")\n",
    "logreg_pca.fit(X_train, y_train)"
   ]
  },
  {
   "cell_type": "code",
   "execution_count": 84,
   "metadata": {},
   "outputs": [
    {
     "name": "stdout",
     "output_type": "stream",
     "text": [
      "Accuracy of logistic regression classifier on test set: 0.72\n"
     ]
    }
   ],
   "source": [
    "y_pred = logreg_pca.predict(X_test)\n",
    "print('Accuracy of logistic regression classifier on test set: {:.2f}'.format(logreg_pca.score(X_test, y_test)))"
   ]
  },
  {
   "cell_type": "code",
   "execution_count": 85,
   "metadata": {},
   "outputs": [
    {
     "name": "stdout",
     "output_type": "stream",
     "text": [
      "              precision    recall  f1-score   support\n",
      "\n",
      "         0.0       0.95      0.73      0.83      9746\n",
      "         1.0       0.16      0.60      0.26       861\n",
      "\n",
      "   micro avg       0.72      0.72      0.72     10607\n",
      "   macro avg       0.56      0.66      0.54     10607\n",
      "weighted avg       0.89      0.72      0.78     10607\n",
      "\n"
     ]
    }
   ],
   "source": [
    "print(classification_report(y_test, y_pred))"
   ]
  },
  {
   "cell_type": "code",
   "execution_count": 86,
   "metadata": {},
   "outputs": [
    {
     "data": {
      "image/png": "[encoded data removed]",
      "text/plain": [
       "<Figure size 1440x360 with 2 Axes>"
      ]
     },
     "metadata": {
      "needs_background": "light"
     },
     "output_type": "display_data"
    }
   ],
   "source": [
    "logit_roc_auc = roc_auc_score(y_train, logreg_pca.predict(X_train))\n",
    "fpr, tpr, thresholds = roc_curve(y_train, logreg_pca.predict_proba(X_train)[:,1])\n",
    "\n",
    "fig, (ax0, ax1) = plt.subplots(nrows=1,ncols=2,figsize=(20,5))\n",
    "\n",
    "# ax0.figure()\n",
    "ax0.plot(fpr, tpr, label='Logistic Regression (area = %0.2f)' % logit_roc_auc)\n",
    "ax0.plot([0, 1], [0, 1],'r--')\n",
    "# ax0.xlim([0.0, 1.0])\n",
    "# ax0.ylim([0.0, 1.05])\n",
    "ax0.set_xlabel('False Positive Rate')\n",
    "ax0.set_ylabel('True Positive Rate')\n",
    "ax0.set_title('Receiver operating characteristic Train')\n",
    "ax0.legend(loc=\"lower right\")\n",
    "# ax0.savefig('Log_ROC')\n",
    "\n",
    "ax1.plot(fpr, tpr, label='Logistic Regression (area = %0.2f)' % logit_roc_auc)\n",
    "ax1.plot([0, 1], [0, 1],'r--')\n",
    "# ax1.xlim([0.0, 1.0])\n",
    "# ax1.ylim([0.0, 1.05])\n",
    "ax1.set_xlabel('False Positive Rate')\n",
    "ax1.set_ylabel('True Positive Rate')\n",
    "ax1.set_title('Receiver operating characteristic Test')\n",
    "ax1.legend(loc=\"lower right\")\n",
    "# ax1.savefig('Log_ROC')\n",
    "\n",
    "fig.suptitle('PCA Log. Reg.')\n",
    "\n",
    "plt.show()"
   ]
  },
  {
   "cell_type": "markdown",
   "metadata": {},
   "source": [
    "## LDA\n",
    "https://scikit-learn.org/stable/modules/generated/sklearn.discriminant_analysis.LinearDiscriminantAnalysis.html#sklearn.discriminant_analysis.LinearDiscriminantAnalysis"
   ]
  },
  {
   "cell_type": "code",
   "execution_count": null,
   "metadata": {},
   "outputs": [],
   "source": [
    "# X_in=StandardScaler().fit_transform(in1.select_dtypes(include=np.number).drop(columns='TARGET'))\n",
    "# Y_in=in1.TARGET"
   ]
  },
  {
   "cell_type": "code",
   "execution_count": null,
   "metadata": {},
   "outputs": [],
   "source": [
    "# X_in=np.nan_to_num(X_in)"
   ]
  },
  {
   "cell_type": "code",
   "execution_count": null,
   "metadata": {},
   "outputs": [],
   "source": [
    "X_in.shape"
   ]
  },
  {
   "cell_type": "code",
   "execution_count": null,
   "metadata": {},
   "outputs": [],
   "source": [
    "X_in.head()"
   ]
  },
  {
   "cell_type": "code",
   "execution_count": 92,
   "metadata": {},
   "outputs": [],
   "source": [
    "lda = LinearDiscriminantAnalysis(n_components=20)"
   ]
  },
  {
   "cell_type": "code",
   "execution_count": 93,
   "metadata": {},
   "outputs": [
    {
     "ename": "MemoryError",
     "evalue": "",
     "output_type": "error",
     "traceback": [
      "\u001b[1;31m---------------------------------------------------------------------------\u001b[0m",
      "\u001b[1;31mMemoryError\u001b[0m                               Traceback (most recent call last)",
      "\u001b[1;32m<ipython-input-93-3af71f515e98>\u001b[0m in \u001b[0;36m<module>\u001b[1;34m\u001b[0m\n\u001b[1;32m----> 1\u001b[1;33m \u001b[0mlda\u001b[0m\u001b[1;33m.\u001b[0m\u001b[0mfit\u001b[0m\u001b[1;33m(\u001b[0m\u001b[0mX_in\u001b[0m\u001b[1;33m,\u001b[0m\u001b[0mY_in\u001b[0m\u001b[1;33m)\u001b[0m\u001b[1;33m\u001b[0m\u001b[1;33m\u001b[0m\u001b[0m\n\u001b[0m",
      "\u001b[1;32mC:\\ProgramData\\Anaconda3\\lib\\site-packages\\sklearn\\discriminant_analysis.py\u001b[0m in \u001b[0;36mfit\u001b[1;34m(self, X, y)\u001b[0m\n\u001b[0;32m    459\u001b[0m             \u001b[1;32mif\u001b[0m \u001b[0mself\u001b[0m\u001b[1;33m.\u001b[0m\u001b[0mshrinkage\u001b[0m \u001b[1;32mis\u001b[0m \u001b[1;32mnot\u001b[0m \u001b[1;32mNone\u001b[0m\u001b[1;33m:\u001b[0m\u001b[1;33m\u001b[0m\u001b[1;33m\u001b[0m\u001b[0m\n\u001b[0;32m    460\u001b[0m                 \u001b[1;32mraise\u001b[0m \u001b[0mNotImplementedError\u001b[0m\u001b[1;33m(\u001b[0m\u001b[1;34m'shrinkage not supported'\u001b[0m\u001b[1;33m)\u001b[0m\u001b[1;33m\u001b[0m\u001b[1;33m\u001b[0m\u001b[0m\n\u001b[1;32m--> 461\u001b[1;33m             \u001b[0mself\u001b[0m\u001b[1;33m.\u001b[0m\u001b[0m_solve_svd\u001b[0m\u001b[1;33m(\u001b[0m\u001b[0mX\u001b[0m\u001b[1;33m,\u001b[0m \u001b[0my\u001b[0m\u001b[1;33m)\u001b[0m\u001b[1;33m\u001b[0m\u001b[1;33m\u001b[0m\u001b[0m\n\u001b[0m\u001b[0;32m    462\u001b[0m         \u001b[1;32melif\u001b[0m \u001b[0mself\u001b[0m\u001b[1;33m.\u001b[0m\u001b[0msolver\u001b[0m \u001b[1;33m==\u001b[0m \u001b[1;34m'lsqr'\u001b[0m\u001b[1;33m:\u001b[0m\u001b[1;33m\u001b[0m\u001b[1;33m\u001b[0m\u001b[0m\n\u001b[0;32m    463\u001b[0m             \u001b[0mself\u001b[0m\u001b[1;33m.\u001b[0m\u001b[0m_solve_lsqr\u001b[0m\u001b[1;33m(\u001b[0m\u001b[0mX\u001b[0m\u001b[1;33m,\u001b[0m \u001b[0my\u001b[0m\u001b[1;33m,\u001b[0m \u001b[0mshrinkage\u001b[0m\u001b[1;33m=\u001b[0m\u001b[0mself\u001b[0m\u001b[1;33m.\u001b[0m\u001b[0mshrinkage\u001b[0m\u001b[1;33m)\u001b[0m\u001b[1;33m\u001b[0m\u001b[1;33m\u001b[0m\u001b[0m\n",
      "\u001b[1;32mC:\\ProgramData\\Anaconda3\\lib\\site-packages\\sklearn\\discriminant_analysis.py\u001b[0m in \u001b[0;36m_solve_svd\u001b[1;34m(self, X, y)\u001b[0m\n\u001b[0;32m    382\u001b[0m         \u001b[0mX\u001b[0m \u001b[1;33m=\u001b[0m \u001b[0mnp\u001b[0m\u001b[1;33m.\u001b[0m\u001b[0msqrt\u001b[0m\u001b[1;33m(\u001b[0m\u001b[0mfac\u001b[0m\u001b[1;33m)\u001b[0m \u001b[1;33m*\u001b[0m \u001b[1;33m(\u001b[0m\u001b[0mXc\u001b[0m \u001b[1;33m/\u001b[0m \u001b[0mstd\u001b[0m\u001b[1;33m)\u001b[0m\u001b[1;33m\u001b[0m\u001b[1;33m\u001b[0m\u001b[0m\n\u001b[0;32m    383\u001b[0m         \u001b[1;31m# SVD of centered (within)scaled data\u001b[0m\u001b[1;33m\u001b[0m\u001b[1;33m\u001b[0m\u001b[1;33m\u001b[0m\u001b[0m\n\u001b[1;32m--> 384\u001b[1;33m         \u001b[0mU\u001b[0m\u001b[1;33m,\u001b[0m \u001b[0mS\u001b[0m\u001b[1;33m,\u001b[0m \u001b[0mV\u001b[0m \u001b[1;33m=\u001b[0m \u001b[0mlinalg\u001b[0m\u001b[1;33m.\u001b[0m\u001b[0msvd\u001b[0m\u001b[1;33m(\u001b[0m\u001b[0mX\u001b[0m\u001b[1;33m,\u001b[0m \u001b[0mfull_matrices\u001b[0m\u001b[1;33m=\u001b[0m\u001b[1;32mFalse\u001b[0m\u001b[1;33m)\u001b[0m\u001b[1;33m\u001b[0m\u001b[1;33m\u001b[0m\u001b[0m\n\u001b[0m\u001b[0;32m    385\u001b[0m \u001b[1;33m\u001b[0m\u001b[0m\n\u001b[0;32m    386\u001b[0m         \u001b[0mrank\u001b[0m \u001b[1;33m=\u001b[0m \u001b[0mnp\u001b[0m\u001b[1;33m.\u001b[0m\u001b[0msum\u001b[0m\u001b[1;33m(\u001b[0m\u001b[0mS\u001b[0m \u001b[1;33m>\u001b[0m \u001b[0mself\u001b[0m\u001b[1;33m.\u001b[0m\u001b[0mtol\u001b[0m\u001b[1;33m)\u001b[0m\u001b[1;33m\u001b[0m\u001b[1;33m\u001b[0m\u001b[0m\n",
      "\u001b[1;32mC:\\ProgramData\\Anaconda3\\lib\\site-packages\\scipy\\linalg\\decomp_svd.py\u001b[0m in \u001b[0;36msvd\u001b[1;34m(a, full_matrices, compute_uv, overwrite_a, check_finite, lapack_driver)\u001b[0m\n\u001b[0;32m    127\u001b[0m     \u001b[1;31m# perform decomposition\u001b[0m\u001b[1;33m\u001b[0m\u001b[1;33m\u001b[0m\u001b[1;33m\u001b[0m\u001b[0m\n\u001b[0;32m    128\u001b[0m     u, s, v, info = gesXd(a1, compute_uv=compute_uv, lwork=lwork,\n\u001b[1;32m--> 129\u001b[1;33m                           full_matrices=full_matrices, overwrite_a=overwrite_a)\n\u001b[0m\u001b[0;32m    130\u001b[0m \u001b[1;33m\u001b[0m\u001b[0m\n\u001b[0;32m    131\u001b[0m     \u001b[1;32mif\u001b[0m \u001b[0minfo\u001b[0m \u001b[1;33m>\u001b[0m \u001b[1;36m0\u001b[0m\u001b[1;33m:\u001b[0m\u001b[1;33m\u001b[0m\u001b[1;33m\u001b[0m\u001b[0m\n",
      "\u001b[1;31mMemoryError\u001b[0m: "
     ]
    }
   ],
   "source": [
    "lda.fit(X_in,Y_in)"
   ]
  },
  {
   "cell_type": "code",
   "execution_count": null,
   "metadata": {},
   "outputs": [],
   "source": [
    "X_in_lda=lda.predict(X_in)"
   ]
  },
  {
   "cell_type": "code",
   "execution_count": null,
   "metadata": {},
   "outputs": [],
   "source": [
    "X_train, X_test, y_train, y_test = train_test_split(X_in_lda, Y_in, test_size=0.3, random_state=0)"
   ]
  },
  {
   "cell_type": "code",
   "execution_count": null,
   "metadata": {},
   "outputs": [],
   "source": [
    "logreg_pca = LogisticRegression(\n",
    "    solver='liblinear',\n",
    "    class_weight='balanced',\n",
    "    max_iter=1000,\n",
    "    C=0.50 #make this smaller (close to 0) to increase regularization strength\n",
    ")\n",
    "logreg_pca.fit(X_train, y_train)"
   ]
  },
  {
   "cell_type": "code",
   "execution_count": null,
   "metadata": {},
   "outputs": [],
   "source": [
    "y_pred = logreg_pca.predict(X_test)\n",
    "print('Accuracy of logistic regression classifier on test set: {:.2f}'.format(logreg_pca.score(X_test, y_test)))"
   ]
  },
  {
   "cell_type": "code",
   "execution_count": null,
   "metadata": {},
   "outputs": [],
   "source": [
    "print(classification_report(y_test, y_pred))"
   ]
  },
  {
   "cell_type": "code",
   "execution_count": null,
   "metadata": {},
   "outputs": [],
   "source": [
    "logit_roc_auc = roc_auc_score(y_train, logreg_pca.predict(X_train))\n",
    "fpr, tpr, thresholds = roc_curve(y_train, logreg_pca.predict_proba(X_train)[:,1])\n",
    "\n",
    "fig, (ax0, ax1) = plt.subplots(nrows=1,ncols=2,figsize=(20,5))\n",
    "\n",
    "# ax0.figure()\n",
    "ax0.plot(fpr, tpr, label='Logistic Regression (area = %0.2f)' % logit_roc_auc)\n",
    "ax0.plot([0, 1], [0, 1],'r--')\n",
    "# ax0.xlim([0.0, 1.0])\n",
    "# ax0.ylim([0.0, 1.05])\n",
    "ax0.set_xlabel('False Positive Rate')\n",
    "ax0.set_ylabel('True Positive Rate')\n",
    "ax0.set_title('Receiver operating characteristic Train')\n",
    "ax0.legend(loc=\"lower right\")\n",
    "# ax0.savefig('Log_ROC')\n",
    "\n",
    "ax1.plot(fpr, tpr, label='Logistic Regression (area = %0.2f)' % logit_roc_auc)\n",
    "ax1.plot([0, 1], [0, 1],'r--')\n",
    "# ax1.xlim([0.0, 1.0])\n",
    "# ax1.ylim([0.0, 1.05])\n",
    "ax1.set_xlabel('False Positive Rate')\n",
    "ax1.set_ylabel('True Positive Rate')\n",
    "ax1.set_title('Receiver operating characteristic Test')\n",
    "ax1.legend(loc=\"lower right\")\n",
    "# ax1.savefig('Log_ROC')\n",
    "\n",
    "fig.suptitle('PCA Log. Reg.')\n",
    "\n",
    "plt.show()"
   ]
  }
 ],
 "metadata": {
  "kernelspec": {
   "display_name": "Python 3",
   "language": "python",
   "name": "python3"
  },
  "language_info": {
   "codemirror_mode": {
    "name": "ipython",
    "version": 3
   },
   "file_extension": ".py",
   "mimetype": "text/x-python",
   "name": "python",
   "nbconvert_exporter": "python",
   "pygments_lexer": "ipython3",
   "version": "3.6.8"
  }
 },
 "nbformat": 4,
 "nbformat_minor": 2
}
